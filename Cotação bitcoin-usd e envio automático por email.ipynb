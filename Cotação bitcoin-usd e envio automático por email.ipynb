{
 "cells": [
  {
   "cell_type": "code",
   "execution_count": 4,
   "id": "7d2c08d6-3cd9-4a0e-ba39-57bc69245720",
   "metadata": {},
   "outputs": [],
   "source": [
    "import pyautogui\n",
    "import pyperclip"
   ]
  },
  {
   "cell_type": "code",
   "execution_count": 6,
   "id": "8ac01a15",
   "metadata": {},
   "outputs": [],
   "source": [
    "#dando 3s para cada comando\n",
    "pyautogui.PAUSE = 3\n",
    "#abrindo uma nova aba\n",
    "pyautogui.hotkey(\"ctrl\",\"t\")\n",
    "#digitar o endereço de gmail\n",
    "pyperclip.copy(\"www.gmail.com\")\n",
    "pyautogui.hotkey(\"ctrl\",\"v\")\n",
    "pyautogui.hotkey(\"enter\")\n",
    "#clicando no botao escrever\n",
    "pyautogui.click(x=39, y=172)\n",
    "# preencher o destinatario e clicar em TAB\n",
    "pyperclip.copy(\"felipebarretopaz@gmail.com\")\n",
    "pyautogui.hotkey(\"ctrl\",\"v\")\n",
    "pyautogui.hotkey(\"tab\")\n",
    "#preencher o campo assunto\n",
    "pyperclip.copy (\"\"\"Este é um email automático feito por Vinicius em Python \n",
    "\"\"\")\n",
    "pyautogui.hotkey(\"ctrl\",\"v\")\n",
    "pyautogui.hotkey(\"tab\")\n",
    "\n",
    "#preencher o corpo do email\n",
    "pyperclip.copy (\"\"\"E aí felipão,\n",
    "\n",
    "Testando este programa de automação!\n",
    "A aula hoje vai ser boa, tô gostando de estudar python, bem mais fácil do que c++\n",
    "Abraço!\n",
    "\n",
    "Rtt, Vinicius Moraes\"\"\")\n",
    "pyautogui.hotkey(\"ctrl\",\"v\")\n",
    "\n",
    "#enviando o email\n",
    "pyautogui.click(x=813, y=689)\n"
   ]
  },
  {
   "cell_type": "code",
   "execution_count": 21,
   "id": "072d96d3",
   "metadata": {},
   "outputs": [
    {
     "data": {
      "text/plain": [
       "Point(x=813, y=689)"
      ]
     },
     "execution_count": 21,
     "metadata": {},
     "output_type": "execute_result"
    }
   ],
   "source": [
    "import time\n",
    "\n",
    "time.sleep(5)\n",
    "pyautogui.position()"
   ]
  },
  {
   "cell_type": "code",
   "execution_count": null,
   "id": "7d1edb4f",
   "metadata": {},
   "outputs": [],
   "source": []
  }
 ],
 "metadata": {
  "kernelspec": {
   "display_name": "Python 3 (ipykernel)",
   "language": "python",
   "name": "python3"
  },
  "language_info": {
   "codemirror_mode": {
    "name": "ipython",
    "version": 3
   },
   "file_extension": ".py",
   "mimetype": "text/x-python",
   "name": "python",
   "nbconvert_exporter": "python",
   "pygments_lexer": "ipython3",
   "version": "3.11.5"
  }
 },
 "nbformat": 4,
 "nbformat_minor": 5
}
